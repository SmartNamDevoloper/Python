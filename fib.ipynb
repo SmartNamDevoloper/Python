fib =[0,1]
i=2
while i <n:
    fib.append(fib[i-2]+fib[i-1])
    i=i+1
for i in range(len(fib)):
    print(fib[i])  
