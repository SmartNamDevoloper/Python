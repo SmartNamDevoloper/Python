{
 "cells": [
  {
   "cell_type": "code",
   "execution_count": null,
   "metadata": {},
   "outputs": [],
   "source": [
    "inp =\"bmaunmdbraai#\"\n",
    "inp1=[]\n",
    "inp2=[]\n",
    "for i in range(0,len(inp)-1,2):\n",
    "    inp1.append(inp[i])\n",
    "    inp2.append(inp[i+1])\n",
    "inp1=\"\".join(inp1)\n",
    "inp2=\"\".join(inp2)\n",
    "print(inp1.strip('#'),inp2.strip(\"#\"))"
   ]
  },
  {
   "cell_type": "code",
   "execution_count": null,
   "metadata": {},
   "outputs": [],
   "source": [
    "input_list=['SAS', 'R', 'PYTHON', 'SPSS']\n",
    "input_list.remove('SPSS')\n",
    "input_list"
   ]
  },
  {
   "cell_type": "code",
   "execution_count": null,
   "metadata": {},
   "outputs": [],
   "source": [
    "input_list.insert(3,'SPARK')"
   ]
  },
  {
   "cell_type": "code",
   "execution_count": null,
   "metadata": {},
   "outputs": [],
   "source": [
    "input_list"
   ]
  },
  {
   "cell_type": "code",
   "execution_count": null,
   "metadata": {},
   "outputs": [],
   "source": [
    "input_list.pop(2)"
   ]
  },
  {
   "cell_type": "code",
   "execution_count": null,
   "metadata": {},
   "outputs": [],
   "source": [
    "input_list"
   ]
  },
  {
   "cell_type": "code",
   "execution_count": null,
   "metadata": {},
   "outputs": [],
   "source": [
    "inp = ['Pythons syntax is easy to learn', 'Pythons syntax is very clear'] \n",
    "inp1=' & '.join(inp)"
   ]
  },
  {
   "cell_type": "code",
   "execution_count": null,
   "metadata": {},
   "outputs": [],
   "source": [
    "inp1"
   ]
  },
  {
   "cell_type": "code",
   "execution_count": null,
   "metadata": {},
   "outputs": [],
   "source": [
    "input_list =  [['SAS','R'],['Tableau','SQL'],['Python','Java']]\n",
    "input_list[2][1]"
   ]
  },
  {
   "cell_type": "code",
   "execution_count": null,
   "metadata": {},
   "outputs": [],
   "source": [
    "input_str = 'Kumar_Ravi_003'\n",
    "string = input_str.split('_')"
   ]
  },
  {
   "cell_type": "code",
   "execution_count": null,
   "metadata": {},
   "outputs": [],
   "source": [
    "string[0]"
   ]
  },
  {
   "cell_type": "code",
   "execution_count": null,
   "metadata": {},
   "outputs": [],
   "source": [
    "input_tuple = ('Monty Python', 'British', 1969)\n",
    "input_list =list(input_tuple)\n",
    "input_list.append(\"Java\")"
   ]
  },
  {
   "cell_type": "code",
   "execution_count": null,
   "metadata": {},
   "outputs": [],
   "source": [
    "input_tuple = tuple(input_list)"
   ]
  },
  {
   "cell_type": "code",
   "execution_count": null,
   "metadata": {},
   "outputs": [],
   "source": [
    "input_tuple"
   ]
  },
  {
   "cell_type": "code",
   "execution_count": null,
   "metadata": {},
   "outputs": [],
   "source": [
    "A = {5, 1, 3, 4, 4, 5, 6, 7}\n",
    "\n",
    "B = {3, 3, 5, 5, 1 ,7 ,2}"
   ]
  },
  {
   "cell_type": "code",
   "execution_count": null,
   "metadata": {},
   "outputs": [],
   "source": [
    "A&B"
   ]
  },
  {
   "cell_type": "code",
   "execution_count": null,
   "metadata": {},
   "outputs": [],
   "source": [
    "Employee_data = { 101:['Shiva', 24, 'Content Strategist'] ,102:['Udit',25,'Content Strategist'], 103:['Sonam', 28,'Sr Manager'], 104:['Ansari',29,'Product Lead' ],105:['Huzefa',32,'Project Manager' ]}"
   ]
  },
  {
   "cell_type": "code",
   "execution_count": null,
   "metadata": {},
   "outputs": [],
   "source": [
    "Employee_data[104][2]"
   ]
  },
  {
   "cell_type": "code",
   "execution_count": null,
   "metadata": {},
   "outputs": [],
   "source": [
    "dict_1 = {\"Python\":40, \"R\":45}"
   ]
  },
  {
   "cell_type": "code",
   "execution_count": null,
   "metadata": {},
   "outputs": [],
   "source": [
    "del dict_1[\"R\"]"
   ]
  },
  {
   "cell_type": "code",
   "execution_count": null,
   "metadata": {},
   "outputs": [],
   "source": [
    "input_dict={'Name': 'Monty', 'Profession': 'Singer' }"
   ]
  },
  {
   "cell_type": "code",
   "execution_count": null,
   "metadata": {},
   "outputs": [],
   "source": [
    "if (\"Libby\" not in input_dict):\n",
    "    print(\"NA\")"
   ]
  },
  {
   "cell_type": "code",
   "execution_count": null,
   "metadata": {},
   "outputs": [],
   "source": [
    "input_dict.get(\"Libby\",\"NA\")"
   ]
  },
  {
   "cell_type": "code",
   "execution_count": null,
   "metadata": {},
   "outputs": [],
   "source": [
    "input_dict = {'Jack Dorsey' : 'Twitter' , 'Tim Cook' : 'Apple','Jeff Bezos' : 'Amazon' ,'Mukesh Ambani' : 'RJIO'}"
   ]
  },
  {
   "cell_type": "code",
   "execution_count": null,
   "metadata": {},
   "outputs": [],
   "source": [
    "sorted(input_dict.values())"
   ]
  },
  {
   "cell_type": "code",
   "execution_count": null,
   "metadata": {},
   "outputs": [],
   "source": [
    "inp = ['VARMA', 'raj', 'Gupta', 'SaNdeeP']\n",
    "out= []\n",
    "for i in inp:\n",
    "    out.append(i.title())"
   ]
  },
  {
   "cell_type": "code",
   "execution_count": null,
   "metadata": {},
   "outputs": [],
   "source": [
    "out"
   ]
  },
  {
   "cell_type": "code",
   "execution_count": null,
   "metadata": {},
   "outputs": [],
   "source": [
    "even = [i for i in range(-100,0,2)]"
   ]
  },
  {
   "cell_type": "code",
   "execution_count": null,
   "metadata": {},
   "outputs": [],
   "source": [
    "even"
   ]
  },
  {
   "cell_type": "code",
   "execution_count": null,
   "metadata": {},
   "outputs": [],
   "source": [
    "sorted(list(range(-2, -101, -2)))"
   ]
  },
  {
   "cell_type": "code",
   "execution_count": null,
   "metadata": {},
   "outputs": [],
   "source": [
    "input_list=[\"wood\", \"old\", \"apple\", \"big\", \"item\", \"euphoria\"] "
   ]
  },
  {
   "cell_type": "code",
   "execution_count": null,
   "metadata": {},
   "outputs": [],
   "source": [
    "[i for i in input_list if i[0] in \"aeiou\"]"
   ]
  },
  {
   "cell_type": "code",
   "execution_count": null,
   "metadata": {},
   "outputs": [],
   "source": [
    "def squared(x,y):\n",
    "    return x**y"
   ]
  },
  {
   "cell_type": "code",
   "execution_count": null,
   "metadata": {},
   "outputs": [],
   "source": [
    "squared(2,3)"
   ]
  },
  {
   "cell_type": "code",
   "execution_count": null,
   "metadata": {},
   "outputs": [],
   "source": [
    "greater =lambda x,y :x if x>y else y"
   ]
  },
  {
   "cell_type": "code",
   "execution_count": null,
   "metadata": {},
   "outputs": [],
   "source": [
    "greater(90,78)"
   ]
  },
  {
   "cell_type": "code",
   "execution_count": null,
   "metadata": {},
   "outputs": [],
   "source": [
    "l =['Santa Cruz','Santa fe','Mumbai','Delhi']\n",
    "sum(list(map(lambda x:x[0]=='S', l)))"
   ]
  },
  {
   "cell_type": "code",
   "execution_count": null,
   "metadata": {},
   "outputs": [],
   "source": [
    "l = [ ['Ankur', 'Avik', 'Kiran', 'Nitin'], ['Narang', 'Sarkar', 'R', 'Sareen']]\n",
    "list(map(lambda x,y:x+\" \"+y ,l[0],l[1] ))"
   ]
  },
  {
   "cell_type": "code",
   "execution_count": null,
   "metadata": {},
   "outputs": [],
   "source": [
    "l = [1, 2, 3, 4, 5, 6, 7, 8, 9, 10, 11, 12, 13, 14, 15, 16, 17, 18, 19, 20, 21, 22, 23, 24, 25, 26, 27, 28, 29, 30, 31, 32, 33, 34, 35, 36, 37, 38, 39, 40, 41, 42, 43, 44, 45, 46, 47, 48, 49, 50]\n",
    "list(filter(lambda x: x%5==0 , l))"
   ]
  },
  {
   "cell_type": "code",
   "execution_count": null,
   "metadata": {},
   "outputs": [],
   "source": [
    "input_list = ['hdjk', 'salsap', 'sherpa']\n",
    "len(list(filter(lambda x :x[0]=='s' and x[-1]=='p' , input_list)))"
   ]
  },
  {
   "cell_type": "code",
   "execution_count": null,
   "metadata": {},
   "outputs": [],
   "source": [
    "from functools import reduce\n",
    "l = ['I','Love','Python']\n",
    "str(reduce(lambda x,y : x+\" \"+y, l))"
   ]
  },
  {
   "cell_type": "code",
   "execution_count": null,
   "metadata": {},
   "outputs": [],
   "source": [
    "l = [31, 63, 76, 89]\n",
    "int(reduce(lambda x,y : x if x>y else y,l))"
   ]
  },
  {
   "cell_type": "code",
   "execution_count": null,
   "metadata": {},
   "outputs": [],
   "source": [
    "class Emp:\n",
    "    company =\"XYZ\"\n",
    "    def __init__(self,name,age):\n",
    "        self.name=name\n",
    "        self.age = age\n",
    "    @classmethod\n",
    "    def change(cls):\n",
    "        cls.company =\"ABC\"\n",
    "    def update(self,age):\n",
    "        self.age =age\n",
    "    @staticmethod\n",
    "    def prin():\n",
    "        print(\"I am just a print\")"
   ]
  },
  {
   "cell_type": "code",
   "execution_count": null,
   "metadata": {},
   "outputs": [],
   "source": [
    "E1 =Emp(\"Ravi\",45)"
   ]
  },
  {
   "cell_type": "code",
   "execution_count": null,
   "metadata": {},
   "outputs": [],
   "source": [
    "E1.name"
   ]
  },
  {
   "cell_type": "code",
   "execution_count": null,
   "metadata": {},
   "outputs": [],
   "source": [
    "E1.update(35)"
   ]
  },
  {
   "cell_type": "code",
   "execution_count": null,
   "metadata": {},
   "outputs": [],
   "source": [
    "E1.age\n"
   ]
  },
  {
   "cell_type": "code",
   "execution_count": null,
   "metadata": {},
   "outputs": [],
   "source": [
    "E1.company"
   ]
  },
  {
   "cell_type": "code",
   "execution_count": null,
   "metadata": {},
   "outputs": [],
   "source": [
    "Emp.change()"
   ]
  },
  {
   "cell_type": "code",
   "execution_count": null,
   "metadata": {},
   "outputs": [],
   "source": [
    "E1.company"
   ]
  },
  {
   "cell_type": "code",
   "execution_count": null,
   "metadata": {},
   "outputs": [],
   "source": [
    "Emp.prin()"
   ]
  },
  {
   "cell_type": "code",
   "execution_count": null,
   "metadata": {},
   "outputs": [],
   "source": [
    "E1.prin()"
   ]
  },
  {
   "cell_type": "code",
   "execution_count": null,
   "metadata": {},
   "outputs": [],
   "source": [
    "class CEO(Emp):\n",
    "    high=True\n",
    "    @staticmethod\n",
    "    def prin():\n",
    "        print(\"I am just a print in CEO\")"
   ]
  },
  {
   "cell_type": "code",
   "execution_count": null,
   "metadata": {},
   "outputs": [],
   "source": [
    "C1=CEO(\"Raj\",56)"
   ]
  },
  {
   "cell_type": "code",
   "execution_count": null,
   "metadata": {},
   "outputs": [],
   "source": [
    "C1.prin()"
   ]
  },
  {
   "cell_type": "code",
   "execution_count": null,
   "metadata": {},
   "outputs": [],
   "source": [
    "C1.update(67)"
   ]
  },
  {
   "cell_type": "code",
   "execution_count": null,
   "metadata": {},
   "outputs": [],
   "source": [
    "C1.age"
   ]
  },
  {
   "cell_type": "code",
   "execution_count": null,
   "metadata": {},
   "outputs": [],
   "source": [
    "C1.company"
   ]
  },
  {
   "cell_type": "code",
   "execution_count": null,
   "metadata": {},
   "outputs": [],
   "source": [
    "C1.prin()"
   ]
  },
  {
   "cell_type": "code",
   "execution_count": null,
   "metadata": {},
   "outputs": [],
   "source": [
    "E1.prin()"
   ]
  },
  {
   "cell_type": "code",
   "execution_count": null,
   "metadata": {},
   "outputs": [],
   "source": [
    "def swap(x,y):\n",
    "    temp = x\n",
    "    x=y\n",
    "    y=temp\n",
    "    return (x,y)\n",
    "print(swap(5,4))"
   ]
  },
  {
   "cell_type": "code",
   "execution_count": null,
   "metadata": {},
   "outputs": [],
   "source": [
    "(x,y)=(4,5)\n",
    "(y,x) =(x,y)"
   ]
  },
  {
   "cell_type": "code",
   "execution_count": null,
   "metadata": {},
   "outputs": [],
   "source": [
    "(x,y)"
   ]
  },
  {
   "cell_type": "code",
   "execution_count": null,
   "metadata": {},
   "outputs": [],
   "source": [
    "list(map(lambda x:\"even\" if x%2 ==0 else \"odd\", [88,100,221]))"
   ]
  },
  {
   "cell_type": "code",
   "execution_count": null,
   "metadata": {},
   "outputs": [],
   "source": [
    "chk = lambda x:\"even\" if x%2 ==0 else \"odd\""
   ]
  },
  {
   "cell_type": "code",
   "execution_count": null,
   "metadata": {},
   "outputs": [],
   "source": [
    "chk(67)"
   ]
  },
  {
   "cell_type": "markdown",
   "metadata": {},
   "source": [
    "A number k is beautiful if it is of the form 3n+1, is pretty if it is of the form 3n+2 and is sexy if it is of form 3n.\n",
    "Given a number k, print if it is beautiful, pretty or sexy."
   ]
  },
  {
   "cell_type": "code",
   "execution_count": null,
   "metadata": {},
   "outputs": [],
   "source": [
    "k=34\n",
    "chk = lambda x,n :\"pretty\" if x == 3*n+1 elif 3*n+2 ==k \"sexy\" elif 3*n == k \"sex\""
   ]
  },
  {
   "cell_type": "code",
   "execution_count": null,
   "metadata": {},
   "outputs": [],
   "source": [
    "k=21\n",
    "for n in range (k):\n",
    "#     chk(n,k)\n",
    "    if k == 3*n+1:\n",
    "        print(\"beautiful\")\n",
    "        break\n",
    "    elif 3*n+2:\n",
    "        print( \"pretty\")\n",
    "        break\n",
    "    elif 3*n == k :\n",
    "        print(\"sexy\")\n",
    "        break"
   ]
  },
  {
   "cell_type": "code",
   "execution_count": null,
   "metadata": {},
   "outputs": [],
   "source": []
  },
  {
   "cell_type": "code",
   "execution_count": null,
   "metadata": {},
   "outputs": [],
   "source": [
    "weekday = [1,2,3,4,5]\n",
    "weekend =[6,7]\n",
    "def alarm(vacation, day):\n",
    "    if not vacation:\n",
    "        if day in weekday:\n",
    "            print(\"7:00\")\n",
    "        elif day in weekend:\n",
    "             print(\"10:00\")\n",
    "    if  vacation:\n",
    "        if day in weekday:\n",
    "            print(\"10:00\")\n",
    "        elif day in weekend:\n",
    "             print(\"off\")"
   ]
  },
  {
   "cell_type": "code",
   "execution_count": null,
   "metadata": {},
   "outputs": [],
   "source": [
    "alarm(True,6)"
   ]
  },
  {
   "cell_type": "code",
   "execution_count": null,
   "metadata": {},
   "outputs": [],
   "source": [
    "x=5\n",
    "if x!=0 or x!=1 :\n",
    "    fact = int(reduce(lambda y,z :y*z, range(1,x+1)))\n",
    "    print(fact)\n",
    "else:\n",
    "    print(1)"
   ]
  },
  {
   "cell_type": "code",
   "execution_count": null,
   "metadata": {},
   "outputs": [],
   "source": [
    "n=1234\n",
    "rev=0\n",
    "while n!=0:\n",
    "    rev= rev*10+n%10\n",
    "    n=n//10\n",
    "print(rev)"
   ]
  },
  {
   "cell_type": "code",
   "execution_count": null,
   "metadata": {},
   "outputs": [],
   "source": [
    "m=15\n",
    "co=2\n",
    "ex=3\n",
    "choc =m//co\n",
    "wrap=choc\n",
    "while wrap//ex !=0:\n",
    "    choc = choc+ wrap//ex\n",
    "    wrap= wrap%ex+wrap//ex\n",
    "print(choc)"
   ]
  },
  {
   "cell_type": "code",
   "execution_count": null,
   "metadata": {},
   "outputs": [],
   "source": [
    "n=370\n",
    "digits = list(str(n))\n",
    "l = len(digits)"
   ]
  },
  {
   "cell_type": "code",
   "execution_count": null,
   "metadata": {},
   "outputs": [],
   "source": [
    "suma =0\n",
    "for i in digits:\n",
    "    suma=suma+int(i)**l\n",
    "if suma  == n:\n",
    "    print(\"arm\")\n",
    "else:\n",
    "    print(\"No\")"
   ]
  },
  {
   "cell_type": "code",
   "execution_count": null,
   "metadata": {},
   "outputs": [],
   "source": [
    "def fib(n):\n",
    "    fl=[0,1]\n",
    "    if n<0:\n",
    "        print(\"None\")\n",
    "    else:\n",
    "        for i in range(2,n):\n",
    "            fl.append(fl[i-1]+fl[i-2])\n",
    "        return(fl)"
   ]
  },
  {
   "cell_type": "code",
   "execution_count": null,
   "metadata": {},
   "outputs": [],
   "source": [
    "print(fib(10))"
   ]
  },
  {
   "cell_type": "code",
   "execution_count": null,
   "metadata": {},
   "outputs": [],
   "source": [
    "def sump(n):\n",
    "    su = 0\n",
    "    for i in range(2,n+1):\n",
    "        prime=1\n",
    "        for div in range(2,i):\n",
    "            if i%div == 0:\n",
    "                prime=0\n",
    "                break\n",
    "        if (prime):\n",
    "            su=su+i\n",
    "    return su\n",
    "                "
   ]
  },
  {
   "cell_type": "code",
   "execution_count": null,
   "metadata": {},
   "outputs": [],
   "source": [
    "sump(10)"
   ]
  },
  {
   "cell_type": "code",
   "execution_count": null,
   "metadata": {},
   "outputs": [],
   "source": []
  },
  {
   "cell_type": "code",
   "execution_count": null,
   "metadata": {},
   "outputs": [],
   "source": [
    "\n",
    "def choc_ex(m,c,w,k):\n",
    "    choc = m//c\n",
    "    wrap = choc\n",
    "    while(wrap//w!=0):\n",
    "        choc = choc+wrap//w*k\n",
    "        wrap =wrap%w+wrap//w*k\n",
    "    return choc"
   ]
  },
  {
   "cell_type": "code",
   "execution_count": null,
   "metadata": {},
   "outputs": [],
   "source": [
    "choc_ex(15, 2, 3, 1)"
   ]
  },
  {
   "cell_type": "code",
   "execution_count": null,
   "metadata": {},
   "outputs": [],
   "source": [
    "l = [2,4,6,8,10]\n",
    "k =4\n",
    "avg = sum(l)/len(l)\n",
    "if k<avg:\n",
    "    print(\"below\")\n",
    "else:\n",
    "    print(\"above\")"
   ]
  },
  {
   "cell_type": "code",
   "execution_count": null,
   "metadata": {},
   "outputs": [],
   "source": []
  },
  {
   "cell_type": "code",
   "execution_count": null,
   "metadata": {},
   "outputs": [],
   "source": [
    "es = [23,45,34,76]\n",
    "\n",
    "bes= [70,34,94]\n",
    "\n",
    "for num in bes:\n",
    "    if (sum(es)+num)/(len(es)+1) > sum(es)/len(es):\n",
    "        es.append(num)\n",
    "        \n",
    "print(es)"
   ]
  },
  {
   "cell_type": "code",
   "execution_count": null,
   "metadata": {},
   "outputs": [],
   "source": [
    "dates = [ [29,31], [23,26], [24,25] ]\n",
    "day = 29\n",
    "count=0\n",
    "for date in dates:\n",
    "    if day in range(date[0],date[1]+1):\n",
    "        count+=1\n",
    "print(count)"
   ]
  },
  {
   "cell_type": "code",
   "execution_count": null,
   "metadata": {},
   "outputs": [],
   "source": [
    "import numpy as np\n",
    "n=5\n",
    "a = np.zeros((n,n))"
   ]
  },
  {
   "cell_type": "code",
   "execution_count": null,
   "metadata": {},
   "outputs": [],
   "source": [
    "for i in range(n):\n",
    "    a[0,i] =1\n",
    "    a[n-1,i] =1\n",
    "    a[i,0] =1\n",
    "    a[i,n-1] =1\n",
    "a"
   ]
  },
  {
   "cell_type": "code",
   "execution_count": null,
   "metadata": {},
   "outputs": [],
   "source": [
    "st = [5 ,4, 2, 1, 4 ,5]\n",
    "lego =[]\n",
    "while(len(st)!=1):\n",
    "    if(st[0]>=st[-1]):\n",
    "        lego.append(st[0])\n",
    "        print(\"popping begin\",st.pop(0))\n",
    "    else:\n",
    "        lego.append(st[-1])\n",
    "        print(\"popping end\",st.pop())\n",
    "lego.extend(st)\n",
    "print(lego)\n",
    "for l in range(len(lego)-1):\n",
    "    if lego[l]<lego[l+1]:\n",
    "        print(\"Impossible\")\n",
    "        break\n",
    "print(\"possible\")\n",
    "    "
   ]
  },
  {
   "cell_type": "code",
   "execution_count": null,
   "metadata": {},
   "outputs": [],
   "source": [
    "n=7\n",
    "prev_row =[0]*(2*n+1)\n",
    "prev_row[n] = 1\n",
    "# print(prev_row)\n",
    "print()\n",
    "for line in range(1,n):\n",
    "    cur_row =[0]*(2*n+1)\n",
    "#     print(cur_row)\n",
    "    for col in range(1,2*n):\n",
    "        cur_row[col] = (prev_row[col-1])+(prev_row[col+1])\n",
    "#     print(cur_row)\n",
    "    prev_row = list(cur_row)\n",
    "list(filter(lambda x: x!=0, cur_row))\n"
   ]
  },
  {
   "cell_type": "code",
   "execution_count": null,
   "metadata": {},
   "outputs": [],
   "source": [
    "l = [1,2,3,4,5,6,7,8,9,10]\n",
    "k =3\n",
    "out=[]\n",
    "chunks = len(l)//k\n",
    "for i in range(chunks):\n",
    "    out.append(l[k*i:k*(i+1)])\n",
    "if len(l)%k:\n",
    "    out.append(l[k*(i+1):])"
   ]
  },
  {
   "cell_type": "code",
   "execution_count": null,
   "metadata": {},
   "outputs": [],
   "source": [
    "out"
   ]
  },
  {
   "cell_type": "code",
   "execution_count": null,
   "metadata": {},
   "outputs": [],
   "source": [
    "l = [1,2,3,4,5,6,7,8,9,10]\n",
    "k =3\n",
    "out=[]\n",
    "for i in range(0,len(l),k):\n",
    "    if(i+k < len(l)):\n",
    "        out.append(l[i:i+k])\n",
    "    else:\n",
    "        out.append(l[i:])\n",
    "out"
   ]
  },
  {
   "cell_type": "code",
   "execution_count": null,
   "metadata": {},
   "outputs": [],
   "source": [
    "inp =[6, 6, 6, 6, 6]\n",
    "\n",
    "l= list(sorted(set(inp)))\n",
    "if len(l):\n",
    "    print(\"Not present\")\n",
    "else:\n",
    "    print(l[-2])\n"
   ]
  },
  {
   "cell_type": "code",
   "execution_count": null,
   "metadata": {},
   "outputs": [],
   "source": [
    "n=4\n",
    "out=[[1]]\n",
    "for i in range(1,n):\n",
    "    r =[i]*(2*i-1)\n",
    "    out.insert(0,list(r))\n",
    "    out.append(list(r))\n",
    "    for o in out:\n",
    "        out.extend(i)\n",
    "        out.insert(0,i)\n",
    "    \n",
    "print(out)\n",
    "        \n",
    "     \n",
    "    "
   ]
  },
  {
   "cell_type": "code",
   "execution_count": null,
   "metadata": {},
   "outputs": [],
   "source": [
    "answer=[[1]]\n",
    "for i in range(2, n+1):\n",
    "    t=[i]*((2*i)-3)\n",
    "    answer.insert(0, list(t))\n",
    "    answer.append(list(t))\n",
    "    for a in answer:\n",
    "        a.insert(0,i)\n",
    "        a.append(i)\n",
    "\n",
    "answerfinal=[]\n",
    "#we join the elements of the string without space\n",
    "for a in answer:\n",
    "    answerfinal.append(\"\".join(str(e) for e in a))\n",
    "#print \n",
    "\n",
    "for a in answerfinal:\n",
    "    print(a)"
   ]
  },
  {
   "cell_type": "code",
   "execution_count": null,
   "metadata": {},
   "outputs": [],
   "source": [
    "inp =\"HAnpnah\"\n",
    "inp = inp.lower()\n",
    "flag=1\n",
    "for i in range(len(inp)//2):\n",
    "    if inp[i] != inp[-i-1]:\n",
    "        flag =0\n",
    "        break\n",
    "print(flag)  "
   ]
  },
  {
   "cell_type": "code",
   "execution_count": null,
   "metadata": {},
   "outputs": [],
   "source": [
    "inp"
   ]
  },
  {
   "cell_type": "code",
   "execution_count": null,
   "metadata": {},
   "outputs": [],
   "source": [
    "inp =\"I love coding in python\"\n",
    "inp =inp.split(\" \")\n",
    "out =[]\n",
    "for i in inp:\n",
    "    out.insert(0,i)\n",
    "out = \" \".join(out)\n",
    "out"
   ]
  },
  {
   "cell_type": "code",
   "execution_count": null,
   "metadata": {},
   "outputs": [],
   "source": [
    "inp = \"caloRie consuMed\"\n",
    "inp = inp.split(\" \")\n",
    "for i in range(len(inp)):\n",
    "    inp[i] = inp[i].title()\n",
    "    \n",
    "\"_\".join(inp)"
   ]
  },
  {
   "cell_type": "code",
   "execution_count": null,
   "metadata": {},
   "outputs": [],
   "source": [
    "inp = \"programming\"\n",
    "vow=[]\n",
    "cons=[]\n",
    "for i in inp:\n",
    "    if i in \"aeiou\":\n",
    "        vow.append(i)\n",
    "    else:\n",
    "        cons.append(i)\n",
    "out = \"\".join(vow+cons)\n",
    "print(out)"
   ]
  },
  {
   "cell_type": "code",
   "execution_count": null,
   "metadata": {},
   "outputs": [],
   "source": [
    "inp1 =\"upgradData\"\n",
    "inp2 = \"upGradScience\"\n",
    "inp1 = inp1.lower()\n",
    "inp2 = inp2.lower()\n",
    "length = min(len(inp1),len(inp2))\n",
    "for i in range(length):\n",
    "    if inp1[i] != inp2[i]:\n",
    "        break\n",
    "print(inp1[:i])"
   ]
  },
  {
   "cell_type": "code",
   "execution_count": null,
   "metadata": {},
   "outputs": [],
   "source": [
    "inp1 = \"abcd\"\n",
    "inp2 =\"cedab\"\n",
    "inp1 = set(inp1)\n",
    "inp2= set(inp2)\n",
    "if len(inp1) >len(inp2):\n",
    "    dif =inp1-inp2\n",
    "else:\n",
    "    dif = inp2-inp1\n",
    "print(dif)"
   ]
  },
  {
   "cell_type": "code",
   "execution_count": null,
   "metadata": {},
   "outputs": [],
   "source": [
    "inp =\"  s12\"\n",
    "inp = str(inp).strip()\n",
    "flag=0\n",
    "for i in inp:\n",
    "    if i not in [\"0\",\"1\",\"2\",\"3\",\"4\",\"5\",\"6\",\"7\",\"8\",\"9\",\"-\",\"+\"]:\n",
    "        flag =1\n",
    "        break\n",
    "if (flag):\n",
    "    print(\"STR\")\n",
    "else:\n",
    "    print(\"INT\")\n",
    "    \n",
    "    "
   ]
  },
  {
   "cell_type": "code",
   "execution_count": null,
   "metadata": {},
   "outputs": [],
   "source": [
    "inp =\"         $3,213\"\n",
    "inp = inp.strip()\n",
    "for i in inp:\n",
    "    if i not in [\"0\",\"1\",\"2\",\"3\",\"4\",\"5\",\"6\",\"7\",\"8\",\"9\",\"-\",\"+\"]:\n",
    "        inp = inp.replace(i,\"\")\n",
    "        \n",
    "inp"
   ]
  },
  {
   "cell_type": "code",
   "execution_count": null,
   "metadata": {},
   "outputs": [],
   "source": [
    "inp ='ytKveh'\n",
    "pwd=\"\"\n",
    "step= 4\n",
    "alps = [chr(x) for x in range(ord(\"a\"),ord(\"z\")+1)]\n",
    "alpS = [chr(x) for x in range(ord(\"A\"),ord(\"Z\")+1)]\n",
    "\n",
    "for i in inp:\n",
    "    if i in alps:\n",
    "        pos = alps.index(i)\n",
    "        pos= pos-4\n",
    "        if pos<0:\n",
    "            pos=pos+26\n",
    "        pwd+=alps[pos]\n",
    "    if i in alpS:\n",
    "        pos = alpS.index(i)\n",
    "        pos= pos-4\n",
    "        if pos<0:\n",
    "            pos=pos+26\n",
    "        pwd+=alpS[pos]\n",
    "pwd "
   ]
  },
  {
   "cell_type": "code",
   "execution_count": null,
   "metadata": {},
   "outputs": [],
   "source": [
    "n=7\n",
    "l=[]\n",
    "for i in range(1,n+1):\n",
    "     \n",
    "    l.append(\"\".join((list(str(n)*i))))"
   ]
  },
  {
   "cell_type": "code",
   "execution_count": null,
   "metadata": {},
   "outputs": [],
   "source": [
    "l"
   ]
  },
  {
   "cell_type": "code",
   "execution_count": null,
   "metadata": {},
   "outputs": [],
   "source": [
    "from functools import reduce\n",
    "reduce (lambda x,y: int(x)+int(y), l)"
   ]
  },
  {
   "cell_type": "code",
   "execution_count": null,
   "metadata": {},
   "outputs": [],
   "source": [
    "d=dict(a=1,b=2)"
   ]
  },
  {
   "cell_type": "code",
   "execution_count": null,
   "metadata": {},
   "outputs": [],
   "source": [
    "inp = {\"Mobile\": [\"Redmi\", \"Samsung\", \"Realme\"], \n",
    "\"Laptop\": [\"Dell\", \"HP\"],\n",
    "\"TV\": [\"Videocon\", \"Sony\"] }\n",
    "new =[]\n",
    "for k,v in inp.items():\n",
    "    if isinstance(v,list):\n",
    "        for item in v:\n",
    "            new.append(k+\"_\"+item)\n",
    "print(new)"
   ]
  },
  {
   "cell_type": "code",
   "execution_count": null,
   "metadata": {},
   "outputs": [],
   "source": [
    "inp= \"ab#ab#ab6a\""
   ]
  },
  {
   "cell_type": "code",
   "execution_count": null,
   "metadata": {},
   "outputs": [],
   "source": [
    "d={}\n",
    "for i in inp:\n",
    "    if i not in d:\n",
    "        d[i] =1\n",
    "    else:\n",
    "        d[i]=d[i]+1\n",
    "        \n",
    "print(d)"
   ]
  },
  {
   "cell_type": "code",
   "execution_count": null,
   "metadata": {},
   "outputs": [],
   "source": [
    "count ={}\n",
    "flag=1\n",
    "for i in range(1,len(d)+1):\n",
    "    count[i]=0\n",
    "for k,v in d.items():\n",
    "    if count[v] == 0:\n",
    "        count[v]=v\n",
    "    else:\n",
    "        flag=0\n",
    "        break\n",
    "if flag:\n",
    "    print(\"Pretty\")\n",
    "else:\n",
    "    print(\"Not Pretty\")"
   ]
  },
  {
   "cell_type": "code",
   "execution_count": null,
   "metadata": {},
   "outputs": [],
   "source": [
    "inp=\"[](){[]()(){}}\"\n",
    "stack=[]\n",
    "for i in inp:\n",
    "#     if i in [\"{\",\"(\",\"[\"]:\n",
    "#         stack.append(i)\n",
    "    if i == ')':\n",
    "        if stack[-1] == '(':\n",
    "            stack.pop()\n",
    "    elif i == ']':\n",
    "        if stack[-1] == '[':\n",
    "            stack.pop()\n",
    "    elif i == '}':\n",
    "        if stack[-1] == '{':\n",
    "            stack.pop()\n",
    "    else:\n",
    "        stack.append(i)  \n",
    "if len(stack) !=0:\n",
    "    print(\"Imbalanced\")\n",
    "else:\n",
    "    print(\"balanced\")"
   ]
  },
  {
   "cell_type": "code",
   "execution_count": null,
   "metadata": {},
   "outputs": [],
   "source": [
    "it ={'mobile1':10000, 'mobile2':11000, 'mobile3':13000, 'mobile4':9000, 'mobile5':15000, 'mobile6':16000, 'mobile7':17000, 'mobile8':18000, 'mobile9':19000}\n",
    "price = min(it.values())\n",
    "for k,v in it.items():\n",
    "    if v==price:\n",
    "        print(k)\n",
    "        break"
   ]
  },
  {
   "cell_type": "code",
   "execution_count": null,
   "metadata": {},
   "outputs": [],
   "source": [
    "inp =[160, 103, 173, 195, 102, 174, 164, 180, 162, 176, 153, 187, 147, 106, 112, 189, 194, 188, 169, 189, 199, 127, 113, 103, 173, 120, 134, 189, 137, 144, 103, 152, 171, 180, 141, 166, 195, 153, 186, 104, 160, 100, 154, 185, 183, 168, 133, 115, 148, 164, 150, 179, 122, 145, 106, 110, 134, 130, 104, 141, 198, 191, 159, 127, 108, 146, 114, 182, 169, 152, 183, 102, 190, 162, 147, 173, 168, 176, 131, 181, 104, 176, 113, 100, 161, 184, 167, 176, 121, 155, 152, 141, 136, 113, 189, 173, 112, 114, 115, 191, 109, 149, 159, 200, 195, 114, 128, 161, 106, 156, 160, 123, 142, 162, 128, 146, 102, 174, 197, 132, 106, 139, 163, 190, 108, 184, 186, 150, 193, 111, 179, 128, 200, 126, 164, 145, 103, 152, 117, 149, 188, 165, 181, 159, 179, 200, 154, 172, 168, 107, 121, 136, 136, 128, 113, 146, 140, 165, 112, 130, 112, 105, 153, 115, 101, 149, 107, 163, 170, 166, 114, 151, 102, 174, 198, 110, 138, 176, 130, 130, 180, 179, 128, 162, 147, 161, 179, 141, 117, 102, 130, 170, 173, 175, 188, 101, 162, 146, 170, 190, 182, 159, 138, 123, 130, 140, 120, 116, 182, 118, 112, 154, 147, 106, 149, 125, 107, 117, 191, 145, 190, 124, 141, 177, 161, 106, 153, 108, 178, 107, 185, 157, 181, 193, 162, 180, 131, 138, 161, 162, 178, 173, 130, 131, 142, 199, 117, 132, 137, 121, 151, 166, 157, 173, 106, 118, 179, 167, 191, 149, 134, 174, 181, 136, 165, 112, 115, 165, 192, 119, 114, 145, 195, 171, 132, 168, 100, 156, 187, 100, 200, 179, 189, 163, 133, 200, 197, 195, 117, 165, 115, 178, 169, 157, 110, 177, 130, 123, 200, 199]\n",
    "dist={}\n",
    "for i in range(0,len(inp)):\n",
    "    for j in range(i+1,len(inp)):\n",
    "        if (inp[i] == inp[j]):\n",
    "            if inp[i] not in dist:\n",
    "                dist[inp[i]] = j-i\n",
    "            else:\n",
    "                if dist[inp[i]] < (j-i):\n",
    "                    dist[inp[i]] = j-i\n",
    "m = max(dist.values())\n",
    "for k,v in dist.items():\n",
    "    if v==m:\n",
    "        print(k,\":\",v)"
   ]
  },
  {
   "cell_type": "code",
   "execution_count": null,
   "metadata": {},
   "outputs": [],
   "source": [
    "inp = [\"pasta\",\"pasta\",\"pasta\",\"paratha\",\"pasta\",\"paratha\",\"paratha\",\"paratha\"]\n",
    "foods = set(inp)\n",
    "d ={}\n",
    "for food in foods:\n",
    "    d[food] =inp.count(food)\n",
    "vm =max(d.values())\n",
    "if vm >len(inp)/2:\n",
    "    for k,v in d.items():\n",
    "        if v == vm:\n",
    "            print(k)\n",
    "else:\n",
    "    print(\"NOTA\")"
   ]
  },
  {
   "cell_type": "code",
   "execution_count": null,
   "metadata": {},
   "outputs": [],
   "source": [
    "inp={'Fruit': 1, 'Vegetable': {'Cabbage': 2, 'Cauliflower': 3}, 'Spices': 4}\n",
    "out={}\n",
    "for k,v in inp.items():\n",
    "    if isinstance(v,dict):\n",
    "        for k2,v2 in v.items():\n",
    "            out[k+\"_\"+k2] = v2\n",
    "    else:\n",
    "        out[k]=v\n",
    "print(sorted(list(out.keys())))\n",
    "print(list(out.values()))"
   ]
  },
  {
   "cell_type": "code",
   "execution_count": null,
   "metadata": {},
   "outputs": [],
   "source": [
    "inp =[3, 5, 7, 9, 11, 13, 15, 17, 19, 21, 23, 25, 27]\n",
    "key =2\n",
    "l=0\n",
    "h = len(inp)-1\n",
    "while(l<=h):\n",
    "    mid=(l+h)//2\n",
    "    if inp[mid] == key:\n",
    "        print(\"found\",mid)\n",
    "        break\n",
    "    elif key < inp[mid]:\n",
    "        h=mid-1\n",
    "    elif key >inp[mid]:\n",
    "        l=mid+1\n",
    "        \n"
   ]
  },
  {
   "cell_type": "code",
   "execution_count": 15,
   "metadata": {},
   "outputs": [],
   "source": [
    "inp =[15, 16, 17, 18, 11, 12, 13, 14]\n",
    "key = 17\n",
    "l=0\n",
    "h=len(inp)-1\n",
    "while(l<=h):\n",
    "    mid=(l+h)//2\n",
    "    \n",
    "    if (key==inp[mid]):\n",
    "        print(\"found\",mid)\n",
    "        break\n",
    "    if key < mid:\n",
    "        if l<=mid:\n",
    "            h =mid-1\n",
    "        else:\n",
    "            l=mid+1\n",
    "    else:\n",
    "        if h>=mid:\n",
    "            l=mid+1\n",
    "        else:\n",
    "            h=mid-1\n",
    "        \n",
    "        \n",
    "    "
   ]
  },
  {
   "cell_type": "code",
   "execution_count": null,
   "metadata": {},
   "outputs": [],
   "source": [
    "lo=0\n",
    "hi = 36\n",
    "while(abs(lo-hi) > 10**-5):\n",
    "    mid=(lo+hi)/2\n",
    "    if mid**2 > n:\n",
    "        hi=mid\n",
    "    else:\n",
    "        lo=mid\n",
    "round(mid,4)"
   ]
  },
  {
   "cell_type": "code",
   "execution_count": null,
   "metadata": {},
   "outputs": [],
   "source": [
    "def sqrt_num(num):\n",
    "    low= 0\n",
    "    high = num\n",
    "    while(abs(low - high) > 10**-5):\n",
    "        mid=(low+high)/2\n",
    "        if (mid**2) >num:\n",
    "            high =mid\n",
    "        else:\n",
    "            low = mid\n",
    "    return round(mid, 4)\n",
    "print(\"%.4f\" % sqrt_num(36))"
   ]
  },
  {
   "cell_type": "code",
   "execution_count": null,
   "metadata": {},
   "outputs": [],
   "source": []
  },
  {
   "cell_type": "code",
   "execution_count": 12,
   "metadata": {},
   "outputs": [
    {
     "name": "stdout",
     "output_type": "stream",
     "text": [
      "3/3 resetting l\n",
      "found 11\n"
     ]
    }
   ],
   "source": [
    "inp =[3, 5, 7, 9, 11, 13, 15, 17, 19, 21, 23, 25, 27]\n",
    "key =25\n",
    "l=0\n",
    "h=len(inp)-1\n",
    "mid1=0\n",
    "mid2=0\n",
    "while(l<=h):\n",
    "    mid1 = l+(h-l)//3\n",
    "    mid2 = h-(h-l)//3\n",
    "#     mid1 = l+h//3\n",
    "#     mid2 = 2*(l+h)//3\n",
    "    \n",
    "    if key == inp[mid1]:\n",
    "        print(\"found\",mid1)\n",
    "        break\n",
    "    if key == inp[mid2]:\n",
    "        print(\"found\",mid2)\n",
    "        break\n",
    "    if key<inp[mid1]:\n",
    "        print(\"1/3 resetting h\")\n",
    "        h=mid1-1\n",
    "    elif key>inp[mid1] and key<inp[mid2]:\n",
    "        print(\"2/3 resetting h and l\",mid1,mid2)\n",
    "        l=mid1+1\n",
    "        h=mid2-1\n",
    "        print(inp[l],inp[mid1],inp[mid2],inp[h])\n",
    "    elif key>inp[mid2]:\n",
    "        print(\"3/3 resetting l\")\n",
    "        l=mid2+1\n",
    "        "
   ]
  },
  {
   "cell_type": "code",
   "execution_count": null,
   "metadata": {},
   "outputs": [],
   "source": [
    "n=1\n",
    "low=0\n",
    "high=n\n",
    "while(low<=high):\n",
    "    mid=(low+high)//2\n",
    "    if n**mid= mid\n"
   ]
  }
 ],
 "metadata": {
  "kernelspec": {
   "display_name": "Python 3",
   "language": "python",
   "name": "python3"
  },
  "language_info": {
   "codemirror_mode": {
    "name": "ipython",
    "version": 3
   },
   "file_extension": ".py",
   "mimetype": "text/x-python",
   "name": "python",
   "nbconvert_exporter": "python",
   "pygments_lexer": "ipython3",
   "version": "3.8.3"
  }
 },
 "nbformat": 4,
 "nbformat_minor": 4
}
