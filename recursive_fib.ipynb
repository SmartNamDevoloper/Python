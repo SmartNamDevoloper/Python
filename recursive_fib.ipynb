
def fib(n):
    if n<=0:
        print("Invalid")
    # First Fibonacci number is 0
    elif n==1:
        return 0
    # Second Fibonacci number is 1
    elif n==2:
        return 1
    else:
        return fib(n-1)+fib(n-2)
 
# Driver Program
n=int(input("Enter the length of the fib series you want: ))
print(fib(n))
